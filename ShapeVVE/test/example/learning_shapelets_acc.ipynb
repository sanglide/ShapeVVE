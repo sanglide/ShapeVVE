{
 "cells": [
  {
   "metadata": {
    "ExecuteTime": {
     "end_time": "2025-09-18T07:41:21.162102Z",
     "start_time": "2025-09-18T07:41:17.398249Z"
    }
   },
   "cell_type": "code",
   "source": [
    "import torch\n",
    "import numpy as np\n",
    "import os\n",
    "from ShapeVVE.DataLoader.loadDataFromAfrr import get_UEA_dataset\n",
    "\n",
    "# 1.加载数据集\n",
    "DATASET_PATH = \"../../../data_files/Multivariate2018_arff/Multivariate_arff\"\n",
    "print(os.path.exists(DATASET_PATH))\n",
    "x_train, y_train, x_val, y_val, x_test, y_test=get_UEA_dataset(DATASET_PATH,\"BasicMotions\")\n",
    "print(f\"x_train: {x_train.shape}, y_train: {y_train.shape}, x_val: {x_val.shape}, y_val: {y_val.shape}, x_test: {x_test.shape}, y_test: {y_test.shape}\")\n",
    "\n",
    "n_classes = len(np.unique(y_train))\n",
    "in_channels=len(x_train[0])\n",
    "\n",
    "x_train = torch.from_numpy(x_train)\n",
    "x_val = torch.from_numpy(x_val)\n",
    "x_test = torch.from_numpy(x_test)\n",
    "y_train = torch.from_numpy(y_train)\n",
    "y_val = torch.from_numpy(y_val)\n",
    "y_test = torch.from_numpy(y_test)\n",
    "\n",
    "print(f'n_classes: {n_classes}')"
   ],
   "id": "d95d162dcf0bd260",
   "outputs": [
    {
     "name": "stdout",
     "output_type": "stream",
     "text": [
      "True\n",
      "Shapes - Train: (40, 6, 100), Val: (8, 6, 100), Test: (32, 6, 100)\n",
      "x_train: (40, 6, 100), y_train: (40,), x_val: (8, 6, 100), y_val: (8,), x_test: (32, 6, 100), y_test: (32,)\n",
      "n_classes: 4\n"
     ]
    }
   ],
   "execution_count": 1
  },
  {
   "metadata": {
    "ExecuteTime": {
     "end_time": "2025-09-18T07:41:31.012016Z",
     "start_time": "2025-09-18T07:41:22.548502Z"
    }
   },
   "cell_type": "code",
   "source": [
    "from ShapeVVE.PredictorModel.LearningShapeletsOrigin import LearningShapelets\n",
    "import numpy as np\n",
    "from sklearn.model_selection import train_test_split\n",
    "from sklearn.metrics import accuracy_score\n",
    "from sklearn.preprocessing import LabelEncoder\n",
    "import torch\n",
    "import torch.nn as nn\n",
    "from torch.optim import Adam\n",
    "\n",
    "# 编码标签\n",
    "label_encoder = LabelEncoder()\n",
    "y_train_encoded = label_encoder.fit_transform(y_train)\n",
    "y_test_encoded = label_encoder.transform(y_test)\n",
    "\n",
    "# 定义模型参数\n",
    "shapelets_size_and_len = {5: 10,  10: 10}  # 3个block，分别有5个长度为10、20、30的shapelets\n",
    "in_channels = x_train.shape[1]\n",
    "num_classes = len(np.unique(y_train_encoded))\n",
    "dist_measure = 'euclidean'  # 可以选择 'euclidean', 'cross-correlation', 或 'cosine'\n",
    "\n",
    "model=LearningShapelets(\n",
    "    shapelets_size_and_len=shapelets_size_and_len,  # 增加shapelet数量\n",
    "    loss_func=nn.CrossEntropyLoss(),\n",
    "    in_channels=in_channels,  # 确保与数据实际通道数一致\n",
    "    num_classes=num_classes,\n",
    "    dist_measure='euclidean',\n",
    "    verbose=1,\n",
    "    to_cuda=torch.cuda.is_available(),\n",
    "    # k=4,           # 增大最近邻数量\n",
    "    # l1=0.01,        # 降低距离损失权重\n",
    "    # l2=0.001,        # 降低相似性损失权重\n",
    ")\n",
    "\n",
    "# 使用更强的优化器\n",
    "optimizer = Adam(model.model.parameters(), lr=0.01, weight_decay=1e-4)\n",
    "model.set_optimizer(optimizer)\n",
    "\n",
    "# 训练模型\n",
    "epochs = 500\n",
    "batch_size = 32\n",
    "losses = model.fit(\n",
    "    x_train,\n",
    "    y_train_encoded,\n",
    "    epochs=epochs,\n",
    "    batch_size=batch_size,\n",
    "    shuffle=True\n",
    ")\n",
    "\n",
    "# 在测试集上评估\n",
    "model.model.eval()  # 设置模型为评估模式\n",
    "y_pred = model.predict(x_test)\n",
    "\n",
    "# 计算准确率\n",
    "accuracy = accuracy_score(y_test_encoded, y_pred)\n",
    "print(f\"Test Accuracy: {accuracy:.4f}\")\n",
    "\n",
    "# 获取shapelets\n",
    "shapelets = model.get_shapelets()\n",
    "print(f\"Shapelets shape: {shapelets.shape}\")\n",
    "\n",
    "# 获取线性层权重\n",
    "weights, biases = model.get_weights_linear_layer()\n",
    "print(f\"Linear layer weights shape: {weights.shape}\")\n",
    "print(f\"Linear layer biases shape: {biases.shape}\")\n",
    "\n",
    "# 可视化训练损失\n",
    "import matplotlib.pyplot as plt\n",
    "\n",
    "if isinstance(losses, tuple):\n",
    "    # 如果有多个损失（使用正则化时）\n",
    "    losses_ce, losses_dist, losses_sim = losses\n",
    "    plt.figure(figsize=(12, 4))\n",
    "\n",
    "    plt.subplot(1, 3, 1)\n",
    "    plt.plot(losses_ce)\n",
    "    plt.title('Cross-Entropy Loss')\n",
    "    plt.xlabel('Iteration')\n",
    "\n",
    "    plt.subplot(1, 3, 2)\n",
    "    plt.plot(losses_dist)\n",
    "    plt.title('Distance Loss')\n",
    "    plt.xlabel('Iteration')\n",
    "\n",
    "    plt.subplot(1, 3, 3)\n",
    "    plt.plot(losses_sim)\n",
    "    plt.title('Similarity Loss')\n",
    "    plt.xlabel('Iteration')\n",
    "\n",
    "else:\n",
    "    # 只有交叉熵损失\n",
    "    plt.figure(figsize=(6, 4))\n",
    "    plt.plot(losses)\n",
    "    plt.title('Training Loss')\n",
    "    plt.xlabel('Iteration')\n",
    "    plt.ylabel('Cross-Entropy Loss')\n",
    "\n",
    "plt.tight_layout()\n",
    "plt.show()"
   ],
   "id": "c269684a759338b4",
   "outputs": [
    {
     "name": "stdout",
     "output_type": "stream",
     "text": [
      "Test Accuracy: 1.0000\n",
      "Shapelets shape: torch.Size([20, 6, 10])\n",
      "Linear layer weights shape: torch.Size([4, 20])\n",
      "Linear layer biases shape: torch.Size([4])\n"
     ]
    },
    {
     "data": {
      "text/plain": [
       "<Figure size 600x400 with 1 Axes>"
      ],
      "image/png": "[encoded data removed]"
     },
     "metadata": {},
     "output_type": "display_data"
    }
   ],
   "execution_count": 2
  },
  {
   "metadata": {},
   "cell_type": "code",
   "outputs": [],
   "execution_count": null,
   "source": "",
   "id": "445762d17f7ac9f3"
  }
 ],
 "metadata": {
  "kernelspec": {
   "display_name": "Python 3",
   "language": "python",
   "name": "python3"
  },
  "language_info": {
   "codemirror_mode": {
    "name": "ipython",
    "version": 2
   },
   "file_extension": ".py",
   "mimetype": "text/x-python",
   "name": "python",
   "nbconvert_exporter": "python",
   "pygments_lexer": "ipython2",
   "version": "2.7.6"
  }
 },
 "nbformat": 4,
 "nbformat_minor": 5
}
