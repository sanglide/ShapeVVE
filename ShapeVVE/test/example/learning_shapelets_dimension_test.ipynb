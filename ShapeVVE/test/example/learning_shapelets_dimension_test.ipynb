{
 "cells": [
  {
   "metadata": {
    "ExecuteTime": {
     "end_time": "2025-09-18T07:48:11.877632Z",
     "start_time": "2025-09-18T07:48:07.646827Z"
    }
   },
   "cell_type": "code",
   "source": [
    "from ShapeVVE.DataLoader.fetcher import DataFetcher\n",
    "import torch\n",
    "from ShapeVVE.DataLoader.loadDataFromAfrr import get_UEA_dataset\n",
    "\n",
    "# 1.加载数据集\n",
    "DATASET_PATH = \"../../../data_files/Multivariate2018_arff/Multivariate_arff\"\n",
    "x_train, y_train, x_val, y_val, x_test, y_test=get_UEA_dataset(DATASET_PATH,\"BasicMotions\")\n",
    "print(f\"x_train: {x_train.shape}, y_train: {y_train.shape}, x_val: {x_val.shape}, y_val: {y_val.shape}, x_test: {x_test.shape}, y_test: {y_test.shape}\")\n",
    "\n",
    "device = torch.device(\"cuda\" if torch.cuda.is_available() else \"cpu\")\n",
    "\n",
    "x_train = torch.from_numpy(x_train).to(device)\n",
    "x_val = torch.from_numpy(x_val).to(device)\n",
    "x_test = torch.from_numpy(x_test).to(device)\n",
    "y_train = torch.from_numpy(y_train).to(device)\n",
    "y_val = torch.from_numpy(y_val).to(device)\n",
    "y_test = torch.from_numpy(y_test).to(device)\n",
    "\n",
    "n_classes = len(torch.unique(y_train))\n",
    "in_channels=len(x_train[0])\n",
    "\n",
    "datafetcher=DataFetcher.from_data_splits(\n",
    "        x_train=x_train,\n",
    "        y_train=y_train,\n",
    "        x_valid=x_val,\n",
    "        y_valid=y_val,\n",
    "        x_test=x_test,\n",
    "        y_test=y_test,\n",
    "        one_hot=False,\n",
    "    )\n",
    "\n",
    "print(f'n_classes: {n_classes}')"
   ],
   "id": "49c2148bb47971e9",
   "outputs": [
    {
     "name": "stdout",
     "output_type": "stream",
     "text": [
      "Shapes - Train: (40, 6, 100), Val: (8, 6, 100), Test: (32, 6, 100)\n",
      "x_train: (40, 6, 100), y_train: (40,), x_val: (8, 6, 100), y_val: (8,), x_test: (32, 6, 100), y_test: (32,)\n",
      "n_classes: 4\n"
     ]
    }
   ],
   "execution_count": 1
  },
  {
   "metadata": {
    "jupyter": {
     "is_executing": true
    },
    "ExecuteTime": {
     "start_time": "2025-09-18T07:48:13.245229Z"
    }
   },
   "cell_type": "code",
   "source": [
    "from torch.optim import Adam\n",
    "from torch import nn\n",
    "import torch\n",
    "from ShapeVVE.ShapeletsVE.shapeletsVE import DVRLChannel\n",
    "from ShapeVVE.Evaluate.api import ExperimentMediatorChannel\n",
    "from ShapeVVE.PredictorModel.LearningShapeletsDimension import LearningShapeletsDimensionSelection\n",
    "\n",
    "metric_name=\"accuracy\"\n",
    "shapelets_size_and_len = {5: 10,  10: 10}\n",
    "\n",
    "train_kwargs = {\"epochs\": 50, \"batch_size\": 100, \"lr\": 0.01}\n",
    "device = 'cpu'\n",
    "\n",
    "model = LearningShapeletsDimensionSelection(\n",
    "    shapelets_size_and_len=shapelets_size_and_len,  # 增加shapelet数量\n",
    "    loss_func=nn.CrossEntropyLoss(),\n",
    "    in_channels=in_channels,  # 确保与数据实际通道数一致\n",
    "    num_classes=n_classes,\n",
    "    dist_measure='euclidean',\n",
    "    verbose=1,\n",
    "    device=device,\n",
    "    to_cuda=torch.cuda.is_available(),\n",
    "    k=5,           # 增大最近邻数量\n",
    "    l1=0.01,        # 降低距离损失权重\n",
    "    l2=0.001,        # 降低相似性损失权重\n",
    "    lr=0.01,\n",
    "    weight_decay=1e-4\n",
    ")\n",
    "\n",
    "exper_med = ExperimentMediatorChannel(\n",
    "    fetcher=datafetcher,\n",
    "    pred_model=model,\n",
    "    train_kwargs=train_kwargs,\n",
    "    metric_name=metric_name,\n",
    ")\n",
    "\n",
    "data_evaluators = [DVRLChannel(rl_epochs=2000,rl_batch_size=10000,device=device)]\n",
    "\n",
    "# compute data values.\n",
    "exper_med = exper_med.compute_data_values(shapelets_num_sum=20,data_evaluators=data_evaluators)\n",
    "print([attr for attr in dir(exper_med) if not callable(getattr(exper_med, attr)) and not attr.startswith('__')])\n",
    "\n",
    "result=exper_med.evaluate_shapeletVE_model(data_evaluators=data_evaluators)\n",
    "# 根据传入的函数，存储精度等评估结果,评估精度\n",
    "\n",
    "print(f'execute end')"
   ],
   "id": "a0fe0421ebe1fa81",
   "outputs": [
    {
     "name": "stdout",
     "output_type": "stream",
     "text": [
      "metric_name is Metrics(metric_name)\n"
     ]
    }
   ],
   "execution_count": null
  },
  {
   "metadata": {},
   "cell_type": "code",
   "outputs": [],
   "execution_count": null,
   "source": "",
   "id": "9c431736b0994947"
  },
  {
   "metadata": {},
   "cell_type": "code",
   "outputs": [],
   "execution_count": null,
   "source": "",
   "id": "e564fc163d72e13d"
  }
 ],
 "metadata": {
  "kernelspec": {
   "display_name": "Python 3",
   "language": "python",
   "name": "python3"
  },
  "language_info": {
   "codemirror_mode": {
    "name": "ipython",
    "version": 2
   },
   "file_extension": ".py",
   "mimetype": "text/x-python",
   "name": "python",
   "nbconvert_exporter": "python",
   "pygments_lexer": "ipython2",
   "version": "2.7.6"
  }
 },
 "nbformat": 4,
 "nbformat_minor": 5
}
